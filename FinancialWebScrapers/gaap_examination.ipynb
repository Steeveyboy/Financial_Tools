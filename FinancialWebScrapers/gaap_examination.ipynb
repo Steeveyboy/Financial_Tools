{
 "cells": [
  {
   "cell_type": "markdown",
   "id": "089dd4af-7ef3-4194-bbab-0cfde27553cb",
   "metadata": {
    "tags": []
   },
   "source": [
    "### Developing GAAP Datamodel\n",
    " - <p>Problem: Companies use various GAAP terms to convey similar information in financial statements, causing any one datamodel to break.</p>\n",
    "     - Ex: To indicate Gross Profit; IBM uses us-gaap:GrossProfit while FB uses us-gaap:OperatingIncomeLoss\n",
    " - <p>Working Solution: Add a nested list of common terms for each desired attribute of the data model.</p>"
   ]
  },
  {
   "cell_type": "code",
   "execution_count": 1,
   "id": "32cabe28-65cc-47ef-8fd8-750509dead84",
   "metadata": {},
   "outputs": [],
   "source": [
    "import requests\n",
    "import pandas as pd\n",
    "import sys\n",
    "import json, helpful\n",
    "pd.set_option('display.float_format', lambda x: '%0.2f' % x)"
   ]
  },
  {
   "cell_type": "code",
   "execution_count": 12,
   "id": "d0d8791f-fd41-4e7a-bb92-280b774de623",
   "metadata": {},
   "outputs": [],
   "source": [
    "allTickers = json.loads(open(\"tickers.json\", 'r').read())\n",
    "def requestStock(ticker):\n",
    "    cik = allTickers[ticker]['cik']\n",
    "    user_agent = {\"user-agent\": \"www.jonsteeves.dev jonathonsteeves@cmail.carleton.ca\"}\n",
    "    companyFacts = \"https://data.sec.gov/api/xbrl/companyfacts/CIK{:010d}.json\".format(cik)\n",
    "    res = requests.get(companyFacts, headers=user_agent)\n",
    "    print(res.status_code)\n",
    "    return dict(res.json())"
   ]
  },
  {
   "cell_type": "code",
   "execution_count": 10,
   "id": "f3c63a49-ffca-4af7-b6c9-317bb89f81bf",
   "metadata": {},
   "outputs": [
    {
     "name": "stdout",
     "output_type": "stream",
     "text": [
      "200\n",
      "200\n",
      "200\n"
     ]
    }
   ],
   "source": [
    "fb = helpful.requestStock(\"FB\")\n",
    "ibm = helpful.requestStock(\"IBM\")\n",
    "amzn = helpful.requestStock(\"AMZN\")"
   ]
  },
  {
   "cell_type": "code",
   "execution_count": 3,
   "id": "181b50a1-4c17-4c88-99d1-c5f418777201",
   "metadata": {},
   "outputs": [
    {
     "data": {
      "text/plain": [
       "dict_keys(['cik', 'entityName', 'facts'])"
      ]
     },
     "execution_count": 3,
     "metadata": {},
     "output_type": "execute_result"
    }
   ],
   "source": [
    "dc.keys()"
   ]
  },
  {
   "cell_type": "code",
   "execution_count": 4,
   "id": "0eaa7853-fb01-4c98-833d-1ae3c99a2a84",
   "metadata": {},
   "outputs": [
    {
     "data": {
      "text/plain": [
       "381"
      ]
     },
     "execution_count": 4,
     "metadata": {},
     "output_type": "execute_result"
    }
   ],
   "source": [
    "len(dc[\"facts\"][\"us-gaap\"].keys())"
   ]
  },
  {
   "cell_type": "markdown",
   "id": "3bec15cc-5571-4a50-a496-49952d617c1f",
   "metadata": {
    "tags": []
   },
   "source": [
    "#### Income Statement\n",
    "Finding Gross Profit: IBM uses GrossProfit, FB uses OperatingIncomeLoss"
   ]
  },
  {
   "cell_type": "code",
   "execution_count": 7,
   "id": "b884f2d9-09a5-4891-8952-d34a1a1899af",
   "metadata": {},
   "outputs": [],
   "source": [
    "dataModel = json.loads(open('dataModels/dataModelV3_Income.json', 'r').read())[\"IncomeStatements\"]"
   ]
  },
  {
   "cell_type": "code",
   "execution_count": 9,
   "id": "88fd7293-16fc-4b9c-ae39-0aff219e130e",
   "metadata": {},
   "outputs": [
    {
     "data": {
      "text/plain": [
       "{'Total revenue': 'Revenues',\n",
       " 'Total cost': 'CostOfRevenue',\n",
       " 'Gross profit': 'GrossProfit',\n",
       " 'Selling, general and administrative': 'SellingGeneralAndAdministrativeExpense',\n",
       " 'Research, development and engineering': 'ResearchAndDevelopmentExpense',\n",
       " 'Interest expense': 'InterestExpense',\n",
       " 'Income before taxes': 'IncomeLossFromContinuingOperationsBeforeIncomeTaxesExtraordinaryItemsNoncontrollingInterest',\n",
       " 'Net income': 'NetIncomeLoss'}"
      ]
     },
     "execution_count": 9,
     "metadata": {},
     "output_type": "execute_result"
    }
   ],
   "source": [
    "dataModel"
   ]
  },
  {
   "cell_type": "code",
   "execution_count": 32,
   "id": "f941b12f-9f0b-4f2b-8e4d-5cb5eba00b64",
   "metadata": {},
   "outputs": [
    {
     "data": {
      "text/plain": [
       "{'start': '2022-01-01',\n",
       " 'end': '2022-03-31',\n",
       " 'val': 3669000000,\n",
       " 'accn': '0001018724-22-000013',\n",
       " 'fy': 2022,\n",
       " 'fp': 'Q1',\n",
       " 'form': '10-Q',\n",
       " 'filed': '2022-04-29',\n",
       " 'frame': 'CY2022Q1'}"
      ]
     },
     "execution_count": 32,
     "metadata": {},
     "output_type": "execute_result"
    }
   ],
   "source": [
    "amzn[\"facts\"][\"us-gaap\"][\"OperatingIncomeLoss\"][\"units\"][\"USD\"][-1]"
   ]
  },
  {
   "cell_type": "code",
   "execution_count": 31,
   "id": "bb853c6f-a97c-4c64-998b-3f6b2b28343d",
   "metadata": {
    "tags": []
   },
   "outputs": [
    {
     "data": {
      "text/plain": [
       "{'start': '2009-01-01',\n",
       " 'end': '2009-12-31',\n",
       " 'val': 5531000000,\n",
       " 'accn': '0001193125-10-016098',\n",
       " 'fy': 2009,\n",
       " 'fp': 'FY',\n",
       " 'form': '10-K',\n",
       " 'filed': '2010-01-29',\n",
       " 'frame': 'CY2009'}"
      ]
     },
     "execution_count": 31,
     "metadata": {},
     "output_type": "execute_result"
    }
   ],
   "source": [
    "amzn[\"facts\"][\"us-gaap\"][\"GrossProfit\"][\"units\"][\"USD\"][-1]"
   ]
  },
  {
   "cell_type": "code",
   "execution_count": null,
   "id": "db76184c-8cd7-4e35-91fd-c5bd09781157",
   "metadata": {},
   "outputs": [],
   "source": []
  }
 ],
 "metadata": {
  "kernelspec": {
   "display_name": "Python 3 (ipykernel)",
   "language": "python",
   "name": "python3"
  },
  "language_info": {
   "codemirror_mode": {
    "name": "ipython",
    "version": 3
   },
   "file_extension": ".py",
   "mimetype": "text/x-python",
   "name": "python",
   "nbconvert_exporter": "python",
   "pygments_lexer": "ipython3",
   "version": "3.8.3"
  }
 },
 "nbformat": 4,
 "nbformat_minor": 5
}
