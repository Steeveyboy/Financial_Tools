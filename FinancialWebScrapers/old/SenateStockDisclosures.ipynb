{
 "cells": [
  {
   "cell_type": "code",
   "execution_count": 1,
   "id": "31d01dea-7d74-48e9-9a78-bc21e3aa52db",
   "metadata": {},
   "outputs": [],
   "source": [
    "import requests\n",
    "import pandas as pd\n",
    "import sys\n",
    "import json"
   ]
  },
  {
   "cell_type": "code",
   "execution_count": 8,
   "id": "d0231955-fe7e-4d1c-97ac-5b2037c7935a",
   "metadata": {},
   "outputs": [],
   "source": [
    "link = \"https://sec.report/Senate-Stock-Disclosures/\"\n",
    "user_agent = {\"user-agent\": \"www.jonsteeves.dev jonathonsteeves@cmail.carleton.ca\"}"
   ]
  },
  {
   "cell_type": "code",
   "execution_count": null,
   "id": "8eb9de17-c4c9-4901-a0a4-23c875968e5a",
   "metadata": {},
   "outputs": [],
   "source": []
  }
 ],
 "metadata": {
  "kernelspec": {
   "display_name": "Python 3",
   "language": "python",
   "name": "python3"
  },
  "language_info": {
   "codemirror_mode": {
    "name": "ipython",
    "version": 3
   },
   "file_extension": ".py",
   "mimetype": "text/x-python",
   "name": "python",
   "nbconvert_exporter": "python",
   "pygments_lexer": "ipython3",
   "version": "3.8.3"
  }
 },
 "nbformat": 4,
 "nbformat_minor": 5
}
