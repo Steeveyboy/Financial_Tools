{
 "cells": [
  {
   "cell_type": "markdown",
   "id": "25cd2e84-0aa0-414d-a825-d7159b246904",
   "metadata": {},
   "source": [
    "# Training a sentiment analysis model"
   ]
  },
  {
   "cell_type": "code",
   "execution_count": 315,
   "id": "7188b0e9-fbad-48a9-a550-b80f5c5591a4",
   "metadata": {},
   "outputs": [],
   "source": [
    "import pandas as pd\n",
    "import numpy as np\n",
    "import nltk\n",
    "from nltk.corpus import movie_reviews, stopwords\n",
    "from nltk.sentiment import SentimentIntensityAnalyzer\n",
    "import time"
   ]
  },
  {
   "cell_type": "code",
   "execution_count": 316,
   "id": "eaa1494b-1200-48c4-8507-eeb74353d0c1",
   "metadata": {
    "tags": []
   },
   "outputs": [],
   "source": [
    "reviews = [[file.split(\"/\")[0], file] for file in movie_reviews.fileids()]\n",
    "df = pd.DataFrame(reviews, columns=[\"label\", \"fileid\"])"
   ]
  },
  {
   "cell_type": "code",
   "execution_count": 317,
   "id": "a74b99d9-cd53-4724-b745-d87a9e6c95f7",
   "metadata": {},
   "outputs": [],
   "source": [
    "stopSet = set(stopwords.words(\"english\"))"
   ]
  },
  {
   "cell_type": "code",
   "execution_count": 353,
   "id": "0098a073-85f4-48d6-9b4d-d5e338170e8b",
   "metadata": {},
   "outputs": [],
   "source": [
    "punc = set(list(string.punctuation) + [\"\\n\", \"\"])\n",
    "cleanword = lambda word: (word not in punc) and (not word.isnumeric())\n",
    "def preprocess(words):\n",
    "    clean_mess = [w for w in words if w not in stopSet and cleanword(w)]\n",
    "    return \" \".join(clean_mess)\n"
   ]
  },
  {
   "cell_type": "code",
   "execution_count": 348,
   "id": "7f783ded-5ed0-46b9-bfbe-c8dac33f3695",
   "metadata": {},
   "outputs": [
    {
     "name": "stdout",
     "output_type": "stream",
     "text": [
      "879\n"
     ]
    },
    {
     "data": {
      "text/plain": [
       "2545"
      ]
     },
     "execution_count": 348,
     "metadata": {},
     "output_type": "execute_result"
    }
   ],
   "source": [
    "print(len(movie_reviews.words(\"neg/cv000_29416.txt\")))\n",
    "len(preprocess(movie_reviews.words(\"neg/cv000_29416.txt\")))"
   ]
  },
  {
   "cell_type": "markdown",
   "id": "ac5ceacb-f70a-438c-bcc5-ecbe56450915",
   "metadata": {},
   "source": [
    "## Evaluating pretrained model"
   ]
  },
  {
   "cell_type": "code",
   "execution_count": 349,
   "id": "5190136d-c730-4b89-9599-f124fd8eb959",
   "metadata": {},
   "outputs": [],
   "source": [
    "sia = SentimentIntensityAnalyzer()"
   ]
  },
  {
   "cell_type": "code",
   "execution_count": 350,
   "id": "4fd9c09a-3060-4c24-9e6a-b2beb6912180",
   "metadata": {},
   "outputs": [
    {
     "data": {
      "text/plain": [
       "{'neg': 0.162, 'neu': 0.639, 'pos': 0.199, 'compound': 0.9209}"
      ]
     },
     "execution_count": 350,
     "metadata": {},
     "output_type": "execute_result"
    }
   ],
   "source": [
    "sn = \" \".join(tokenize(example))\n",
    "sia.polarity_scores(sn)"
   ]
  },
  {
   "cell_type": "code",
   "execution_count": 351,
   "id": "f6339b8c-66b0-4849-a791-543f6ae32a7d",
   "metadata": {
    "tags": []
   },
   "outputs": [],
   "source": [
    "df['compound'] = df.fileid.apply(lambda x: sia.polarity_scores(preprocess(movie_reviews.words(x)))['compound'])"
   ]
  },
  {
   "cell_type": "code",
   "execution_count": 352,
   "id": "c3d772ff-6241-42f1-95dc-629920254ed4",
   "metadata": {},
   "outputs": [
    {
     "data": {
      "text/html": [
       "<div>\n",
       "<style scoped>\n",
       "    .dataframe tbody tr th:only-of-type {\n",
       "        vertical-align: middle;\n",
       "    }\n",
       "\n",
       "    .dataframe tbody tr th {\n",
       "        vertical-align: top;\n",
       "    }\n",
       "\n",
       "    .dataframe thead th {\n",
       "        text-align: right;\n",
       "    }\n",
       "</style>\n",
       "<table border=\"1\" class=\"dataframe\">\n",
       "  <thead>\n",
       "    <tr style=\"text-align: right;\">\n",
       "      <th></th>\n",
       "      <th>label</th>\n",
       "      <th>neg</th>\n",
       "      <th>pos</th>\n",
       "    </tr>\n",
       "  </thead>\n",
       "  <tbody>\n",
       "    <tr>\n",
       "      <th rowspan=\"8\" valign=\"top\">compound</th>\n",
       "      <th>count</th>\n",
       "      <td>1000.000000</td>\n",
       "      <td>1000.000000</td>\n",
       "    </tr>\n",
       "    <tr>\n",
       "      <th>mean</th>\n",
       "      <td>0.228477</td>\n",
       "      <td>0.654830</td>\n",
       "    </tr>\n",
       "    <tr>\n",
       "      <th>std</th>\n",
       "      <td>0.876383</td>\n",
       "      <td>0.688840</td>\n",
       "    </tr>\n",
       "    <tr>\n",
       "      <th>min</th>\n",
       "      <td>-0.999000</td>\n",
       "      <td>-0.999000</td>\n",
       "    </tr>\n",
       "    <tr>\n",
       "      <th>25%</th>\n",
       "      <td>-0.892100</td>\n",
       "      <td>0.918475</td>\n",
       "    </tr>\n",
       "    <tr>\n",
       "      <th>50%</th>\n",
       "      <td>0.869000</td>\n",
       "      <td>0.988800</td>\n",
       "    </tr>\n",
       "    <tr>\n",
       "      <th>75%</th>\n",
       "      <td>0.982000</td>\n",
       "      <td>0.996500</td>\n",
       "    </tr>\n",
       "    <tr>\n",
       "      <th>max</th>\n",
       "      <td>0.999100</td>\n",
       "      <td>0.999800</td>\n",
       "    </tr>\n",
       "  </tbody>\n",
       "</table>\n",
       "</div>"
      ],
      "text/plain": [
       "label                   neg          pos\n",
       "compound count  1000.000000  1000.000000\n",
       "         mean      0.228477     0.654830\n",
       "         std       0.876383     0.688840\n",
       "         min      -0.999000    -0.999000\n",
       "         25%      -0.892100     0.918475\n",
       "         50%       0.869000     0.988800\n",
       "         75%       0.982000     0.996500\n",
       "         max       0.999100     0.999800"
      ]
     },
     "execution_count": 352,
     "metadata": {},
     "output_type": "execute_result"
    }
   ],
   "source": [
    "df.groupby(\"label\").describe().T"
   ]
  },
  {
   "cell_type": "code",
   "execution_count": 327,
   "id": "25519a9a-a984-44bb-bbf0-b2f02ab66f58",
   "metadata": {},
   "outputs": [
    {
     "data": {
      "text/html": [
       "<div>\n",
       "<style scoped>\n",
       "    .dataframe tbody tr th:only-of-type {\n",
       "        vertical-align: middle;\n",
       "    }\n",
       "\n",
       "    .dataframe tbody tr th {\n",
       "        vertical-align: top;\n",
       "    }\n",
       "\n",
       "    .dataframe thead th {\n",
       "        text-align: right;\n",
       "    }\n",
       "</style>\n",
       "<table border=\"1\" class=\"dataframe\">\n",
       "  <thead>\n",
       "    <tr style=\"text-align: right;\">\n",
       "      <th></th>\n",
       "      <th>label</th>\n",
       "      <th>neg</th>\n",
       "      <th>pos</th>\n",
       "    </tr>\n",
       "  </thead>\n",
       "  <tbody>\n",
       "    <tr>\n",
       "      <th rowspan=\"8\" valign=\"top\">compound</th>\n",
       "      <th>count</th>\n",
       "      <td>1000.000000</td>\n",
       "      <td>1000.000000</td>\n",
       "    </tr>\n",
       "    <tr>\n",
       "      <th>mean</th>\n",
       "      <td>0.107110</td>\n",
       "      <td>0.646057</td>\n",
       "    </tr>\n",
       "    <tr>\n",
       "      <th>std</th>\n",
       "      <td>0.904130</td>\n",
       "      <td>0.702314</td>\n",
       "    </tr>\n",
       "    <tr>\n",
       "      <th>min</th>\n",
       "      <td>-0.999700</td>\n",
       "      <td>-0.999600</td>\n",
       "    </tr>\n",
       "    <tr>\n",
       "      <th>25%</th>\n",
       "      <td>-0.954550</td>\n",
       "      <td>0.902900</td>\n",
       "    </tr>\n",
       "    <tr>\n",
       "      <th>50%</th>\n",
       "      <td>0.682050</td>\n",
       "      <td>0.990900</td>\n",
       "    </tr>\n",
       "    <tr>\n",
       "      <th>75%</th>\n",
       "      <td>0.982025</td>\n",
       "      <td>0.997225</td>\n",
       "    </tr>\n",
       "    <tr>\n",
       "      <th>max</th>\n",
       "      <td>0.999600</td>\n",
       "      <td>0.999900</td>\n",
       "    </tr>\n",
       "  </tbody>\n",
       "</table>\n",
       "</div>"
      ],
      "text/plain": [
       "label                   neg          pos\n",
       "compound count  1000.000000  1000.000000\n",
       "         mean      0.107110     0.646057\n",
       "         std       0.904130     0.702314\n",
       "         min      -0.999700    -0.999600\n",
       "         25%      -0.954550     0.902900\n",
       "         50%       0.682050     0.990900\n",
       "         75%       0.982025     0.997225\n",
       "         max       0.999600     0.999900"
      ]
     },
     "execution_count": 327,
     "metadata": {},
     "output_type": "execute_result"
    }
   ],
   "source": [
    "df.groupby(\"label\").describe().T"
   ]
  },
  {
   "cell_type": "code",
   "execution_count": null,
   "id": "b3b3028c-9d5f-49cf-8ad4-18852c4a02a5",
   "metadata": {},
   "outputs": [],
   "source": []
  }
 ],
 "metadata": {
  "kernelspec": {
   "display_name": "Python 3 (ipykernel)",
   "language": "python",
   "name": "python3"
  },
  "language_info": {
   "codemirror_mode": {
    "name": "ipython",
    "version": 3
   },
   "file_extension": ".py",
   "mimetype": "text/x-python",
   "name": "python",
   "nbconvert_exporter": "python",
   "pygments_lexer": "ipython3",
   "version": "3.8.3"
  }
 },
 "nbformat": 4,
 "nbformat_minor": 5
}
