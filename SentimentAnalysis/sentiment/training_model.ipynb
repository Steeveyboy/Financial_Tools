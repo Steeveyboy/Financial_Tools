{
 "cells": [
  {
   "cell_type": "markdown",
   "id": "25cd2e84-0aa0-414d-a825-d7159b246904",
   "metadata": {},
   "source": [
    "# Training a sentiment analysis model"
   ]
  },
  {
   "cell_type": "code",
   "execution_count": 142,
   "id": "7188b0e9-fbad-48a9-a550-b80f5c5591a4",
   "metadata": {},
   "outputs": [],
   "source": [
    "import pandas as pd\n",
    "import numpy as np\n",
    "import nltk\n",
    "from nltk.corpus import movie_reviews, stopwords\n",
    "from nltk.sentiment import SentimentIntensityAnalyzer\n",
    "from sklearn.feature_extraction.text import TfidfTransformer, CountVectorizer\n",
    "import time, string"
   ]
  },
  {
   "cell_type": "code",
   "execution_count": 6,
   "id": "eaa1494b-1200-48c4-8507-eeb74353d0c1",
   "metadata": {
    "tags": []
   },
   "outputs": [],
   "source": [
    "reviews = [[file.split(\"/\")[0], file] for file in movie_reviews.fileids()]\n",
    "df = pd.DataFrame(reviews, columns=[\"label\", \"fileid\"])"
   ]
  },
  {
   "cell_type": "code",
   "execution_count": 7,
   "id": "a74b99d9-cd53-4724-b745-d87a9e6c95f7",
   "metadata": {},
   "outputs": [],
   "source": [
    "stopSet = set(stopwords.words(\"english\"))"
   ]
  },
  {
   "cell_type": "code",
   "execution_count": 372,
   "id": "0098a073-85f4-48d6-9b4d-d5e338170e8b",
   "metadata": {},
   "outputs": [],
   "source": [
    "punc = set(list(string.punctuation) + [\"\\n\", \"\"])\n",
    "cleanword = lambda word: (word not in punc) and (word.isalpha())\n",
    "def preprocess(words, string=False):\n",
    "    if(type(words) == str):\n",
    "        words = words.split(\" \")\n",
    "    clean_mess = [w.lower() for w in words if w not in stopSet and cleanword(w)]\n",
    "    if(string):\n",
    "        return \" \".join(clean_mess)\n",
    "    else:\n",
    "        return clean_mess\n"
   ]
  },
  {
   "cell_type": "code",
   "execution_count": 130,
   "id": "7f783ded-5ed0-46b9-bfbe-c8dac33f3695",
   "metadata": {},
   "outputs": [
    {
     "name": "stdout",
     "output_type": "stream",
     "text": [
      "879\n"
     ]
    },
    {
     "data": {
      "text/plain": [
       "324"
      ]
     },
     "execution_count": 130,
     "metadata": {},
     "output_type": "execute_result"
    }
   ],
   "source": [
    "print(len(movie_reviews.words(\"neg/cv000_29416.txt\")))\n",
    "len(preprocess(movie_reviews.words(\"neg/cv000_29416.txt\")).split())"
   ]
  },
  {
   "cell_type": "markdown",
   "id": "11a572fd-6936-4433-a01b-37acb8a30f86",
   "metadata": {},
   "source": [
    "## Evaluating tf-idf"
   ]
  },
  {
   "cell_type": "code",
   "execution_count": 389,
   "id": "3f0537a9-226f-4d93-8642-90ad3640ab5e",
   "metadata": {},
   "outputs": [],
   "source": [
    "from sklearn.pipeline import Pipeline\n",
    "from sklearn.naive_bayes import MultinomialNB\n",
    "from sklearn.metrics import classification_report, confusion_matrix\n",
    "from sklearn.model_selection import train_test_split"
   ]
  },
  {
   "cell_type": "code",
   "execution_count": 327,
   "id": "8ee839ad-c9d8-43ae-a714-0131f94bca86",
   "metadata": {},
   "outputs": [
    {
     "name": "stdout",
     "output_type": "stream",
     "text": [
      "37360\n",
      "(2000, 37360)\n",
      "CPU times: total: 2.09 s\n",
      "Wall time: 2.08 s\n"
     ]
    }
   ],
   "source": [
    "%%time\n",
    "\n",
    "bow_transformer = CountVectorizer(analyzer=preprocess).fit(df.fileid.apply(movie_reviews.raw))\n",
    "print(len(bow_transformer.vocabulary_))\n",
    "\n",
    "reviews_bow = bow_transformer.transform(df.fileid.apply(movie_reviews.raw))\n",
    "print(reviews_bow.shape)\n",
    "\n",
    "tfidf_transformer = TfidfTransformer().fit(reviews_bow)\n",
    "reviews_tfidf = tfidf_transformer.transform(reviews_bow)\n",
    "\n",
    "sentiment_detect_model = MultinomialNB().fit(reviews_tfidf, df['label'])"
   ]
  },
  {
   "cell_type": "code",
   "execution_count": 520,
   "id": "7672012f-7729-41b6-ab3a-643c4232bbe0",
   "metadata": {},
   "outputs": [],
   "source": [
    "msg_train, msg_test, label_train, label_test = train_test_split(df['fileid'], df['label'], test_size=0.25, random_state=101)"
   ]
  },
  {
   "cell_type": "code",
   "execution_count": 521,
   "id": "af35f4c3-b09c-4286-b0dc-095392f05a75",
   "metadata": {},
   "outputs": [
    {
     "name": "stdout",
     "output_type": "stream",
     "text": [
      "              precision    recall  f1-score   support\n",
      "\n",
      "         neg       0.83      0.85      0.84       241\n",
      "         pos       0.86      0.83      0.85       259\n",
      "\n",
      "    accuracy                           0.84       500\n",
      "   macro avg       0.84      0.84      0.84       500\n",
      "weighted avg       0.84      0.84      0.84       500\n",
      "\n",
      "CPU times: total: 1.22 s\n",
      "Wall time: 1.22 s\n"
     ]
    }
   ],
   "source": [
    "%%time\n",
    "pipeline = Pipeline([('bow', CountVectorizer(analyzer=preprocess)), ('tfidf', TfidfTransformer()), ('classifier', MultinomialNB())])\n",
    "\n",
    "pipeline.fit(msg_train.apply(movie_reviews.raw), label_train)\n",
    "predictions = pipeline.predict(msg_test.apply(movie_reviews.raw))\n",
    "\n",
    "print (classification_report(label_test, predictions))"
   ]
  },
  {
   "cell_type": "code",
   "execution_count": 385,
   "id": "45e22094-6ec0-4757-a283-3cb20205b78b",
   "metadata": {},
   "outputs": [],
   "source": [
    "yelp = pd.read_csv(\"yelp.csv\")\n",
    "yelp['label'] = yelp.stars.apply(lambda x: 'pos' if x >= 3 else 'neg')"
   ]
  },
  {
   "cell_type": "code",
   "execution_count": 386,
   "id": "dbd162aa-0e25-44e3-8fdf-f1454b789d69",
   "metadata": {
    "tags": []
   },
   "outputs": [],
   "source": [
    "ypipeline = Pipeline([('bow', CountVectorizer(analyzer=preprocess)), ('tfidf', TfidfTransformer()), ('classifier', MultinomialNB())])\n",
    "ypipeline.fit(yelp.text, yelp['label'])\n",
    "predictions = ypipeline.predict(yelp.text)"
   ]
  },
  {
   "cell_type": "code",
   "execution_count": 387,
   "id": "28fedfc2-f1f1-4925-9128-e3829bddb4fc",
   "metadata": {},
   "outputs": [
    {
     "name": "stdout",
     "output_type": "stream",
     "text": [
      "              precision    recall  f1-score   support\n",
      "\n",
      "         neg       1.00      0.00      0.01      1676\n",
      "         pos       0.83      1.00      0.91      8324\n",
      "\n",
      "    accuracy                           0.83     10000\n",
      "   macro avg       0.92      0.50      0.46     10000\n",
      "weighted avg       0.86      0.83      0.76     10000\n",
      "\n",
      "[[   5 1671]\n",
      " [   0 8324]]\n"
     ]
    }
   ],
   "source": [
    "print (classification_report(yelp['label'], predictions))\n",
    "print(confusion_matrix(yelp['label'], predictions))"
   ]
  },
  {
   "cell_type": "code",
   "execution_count": 523,
   "id": "1a3920c0-afcc-4e4c-9128-8dba1f6c8b86",
   "metadata": {},
   "outputs": [],
   "source": [
    "tesla = pd.read_csv('reuters_tesla.csv')"
   ]
  },
  {
   "cell_type": "code",
   "execution_count": 529,
   "id": "139c7652-61a8-4815-b735-d19262e56547",
   "metadata": {},
   "outputs": [],
   "source": [
    "tesla['label'] = pipeline.predict(tesla.article)"
   ]
  },
  {
   "cell_type": "markdown",
   "id": "7b060177-e443-43aa-9768-1748b16de48c",
   "metadata": {},
   "source": [
    "## Other model?"
   ]
  },
  {
   "cell_type": "code",
   "execution_count": 131,
   "id": "d43f62f7-16d6-4ef9-8c51-a0a4e6ed76e4",
   "metadata": {},
   "outputs": [
    {
     "name": "stdout",
     "output_type": "stream",
     "text": [
      "postive: 371560 \n",
      "negative: 329983\n",
      "CPU times: total: 2.25 s\n",
      "Wall time: 2.21 s\n"
     ]
    }
   ],
   "source": [
    "%%time\n",
    "positive_words = preprocess(nltk.corpus.movie_reviews.words(categories=[\"pos\"]), string=False)\n",
    "negative_words = preprocess(nltk.corpus.movie_reviews.words(categories=[\"neg\"]), string=False)\n",
    "print(f\"postive: {len(positive_words)} \\nnegative: {len(negative_words)}\")"
   ]
  },
  {
   "cell_type": "code",
   "execution_count": 96,
   "id": "5733d461-f911-4705-9320-14ee7e0ea865",
   "metadata": {},
   "outputs": [],
   "source": [
    "positive_fd = nltk.FreqDist(positive_words)\n",
    "negative_fd = nltk.FreqDist(negative_words)"
   ]
  },
  {
   "cell_type": "code",
   "execution_count": 138,
   "id": "64ec2d3b-aea7-4fba-aa2d-7ce1280f5311",
   "metadata": {},
   "outputs": [
    {
     "name": "stdout",
     "output_type": "stream",
     "text": [
      "CPU times: total: 93.8 ms\n",
      "Wall time: 93 ms\n"
     ]
    }
   ],
   "source": [
    "%%time\n",
    "common_set = set(positive_words).intersection(set(negative_words))\n",
    "for word in common_set:\n",
    "    del positive_fd[word]\n",
    "    del negative_fd[word]"
   ]
  },
  {
   "cell_type": "markdown",
   "id": "ac5ceacb-f70a-438c-bcc5-ecbe56450915",
   "metadata": {},
   "source": [
    "## Evaluating pretrained model"
   ]
  },
  {
   "cell_type": "code",
   "execution_count": 557,
   "id": "3f008c83-b395-4dce-8c17-609556de976b",
   "metadata": {},
   "outputs": [],
   "source": [
    "from nltk.sentiment.vader import SentimentIntensityAnalyzer as Vader\n",
    "# sia = SentimentIntensityAnalyzer()\n",
    "vader = Vader()\n",
    "# example = movie_reviews.words(\"neg/cv000_29416.txt\")\n",
    "# sn = preprocess(example)\n",
    "# sia.polarity_scores(sn)"
   ]
  },
  {
   "cell_type": "code",
   "execution_count": 560,
   "id": "f79f951e-9bbc-4c23-bed3-30fe7464257c",
   "metadata": {},
   "outputs": [
    {
     "data": {
      "text/html": [
       "<div>\n",
       "<style scoped>\n",
       "    .dataframe tbody tr th:only-of-type {\n",
       "        vertical-align: middle;\n",
       "    }\n",
       "\n",
       "    .dataframe tbody tr th {\n",
       "        vertical-align: top;\n",
       "    }\n",
       "\n",
       "    .dataframe thead th {\n",
       "        text-align: right;\n",
       "    }\n",
       "</style>\n",
       "<table border=\"1\" class=\"dataframe\">\n",
       "  <thead>\n",
       "    <tr style=\"text-align: right;\">\n",
       "      <th></th>\n",
       "      <th>label</th>\n",
       "      <th>neg</th>\n",
       "      <th>pos</th>\n",
       "    </tr>\n",
       "  </thead>\n",
       "  <tbody>\n",
       "    <tr>\n",
       "      <th rowspan=\"8\" valign=\"top\">compound</th>\n",
       "      <th>count</th>\n",
       "      <td>1000.000000</td>\n",
       "      <td>1000.000000</td>\n",
       "    </tr>\n",
       "    <tr>\n",
       "      <th>mean</th>\n",
       "      <td>0.107110</td>\n",
       "      <td>0.646057</td>\n",
       "    </tr>\n",
       "    <tr>\n",
       "      <th>std</th>\n",
       "      <td>0.904130</td>\n",
       "      <td>0.702314</td>\n",
       "    </tr>\n",
       "    <tr>\n",
       "      <th>min</th>\n",
       "      <td>-0.999700</td>\n",
       "      <td>-0.999600</td>\n",
       "    </tr>\n",
       "    <tr>\n",
       "      <th>25%</th>\n",
       "      <td>-0.954550</td>\n",
       "      <td>0.902900</td>\n",
       "    </tr>\n",
       "    <tr>\n",
       "      <th>50%</th>\n",
       "      <td>0.682050</td>\n",
       "      <td>0.990900</td>\n",
       "    </tr>\n",
       "    <tr>\n",
       "      <th>75%</th>\n",
       "      <td>0.982025</td>\n",
       "      <td>0.997225</td>\n",
       "    </tr>\n",
       "    <tr>\n",
       "      <th>max</th>\n",
       "      <td>0.999600</td>\n",
       "      <td>0.999900</td>\n",
       "    </tr>\n",
       "  </tbody>\n",
       "</table>\n",
       "</div>"
      ],
      "text/plain": [
       "label                   neg          pos\n",
       "compound count  1000.000000  1000.000000\n",
       "         mean      0.107110     0.646057\n",
       "         std       0.904130     0.702314\n",
       "         min      -0.999700    -0.999600\n",
       "         25%      -0.954550     0.902900\n",
       "         50%       0.682050     0.990900\n",
       "         75%       0.982025     0.997225\n",
       "         max       0.999600     0.999900"
      ]
     },
     "execution_count": 560,
     "metadata": {},
     "output_type": "execute_result"
    }
   ],
   "source": [
    "df['compound'] = df.fileid.apply(lambda x: sia.polarity_scores(movie_reviews.raw(x))['compound'])\n",
    "df[\"compound_alpha\"] = df[\"compound\"].apply(lambda x: 'pos' if x > 0 else 'neg')\n",
    "df.groupby(\"label\").describe().T"
   ]
  },
  {
   "cell_type": "code",
   "execution_count": 566,
   "id": "9d6f7d67-8e03-43b8-94cb-9882ab9a391c",
   "metadata": {},
   "outputs": [
    {
     "data": {
      "text/html": [
       "<div>\n",
       "<style scoped>\n",
       "    .dataframe tbody tr th:only-of-type {\n",
       "        vertical-align: middle;\n",
       "    }\n",
       "\n",
       "    .dataframe tbody tr th {\n",
       "        vertical-align: top;\n",
       "    }\n",
       "\n",
       "    .dataframe thead th {\n",
       "        text-align: right;\n",
       "    }\n",
       "</style>\n",
       "<table border=\"1\" class=\"dataframe\">\n",
       "  <thead>\n",
       "    <tr style=\"text-align: right;\">\n",
       "      <th></th>\n",
       "      <th>label</th>\n",
       "      <th>fileid</th>\n",
       "      <th>compound</th>\n",
       "      <th>compound_alpha</th>\n",
       "    </tr>\n",
       "  </thead>\n",
       "  <tbody>\n",
       "    <tr>\n",
       "      <th>1009</th>\n",
       "      <td>pos</td>\n",
       "      <td>pos/cv009_29592.txt</td>\n",
       "      <td>-0.9813</td>\n",
       "      <td>neg</td>\n",
       "    </tr>\n",
       "    <tr>\n",
       "      <th>1013</th>\n",
       "      <td>pos</td>\n",
       "      <td>pos/cv013_10159.txt</td>\n",
       "      <td>-0.9159</td>\n",
       "      <td>neg</td>\n",
       "    </tr>\n",
       "    <tr>\n",
       "      <th>1028</th>\n",
       "      <td>pos</td>\n",
       "      <td>pos/cv028_26746.txt</td>\n",
       "      <td>-0.9916</td>\n",
       "      <td>neg</td>\n",
       "    </tr>\n",
       "    <tr>\n",
       "      <th>1046</th>\n",
       "      <td>pos</td>\n",
       "      <td>pos/cv046_10188.txt</td>\n",
       "      <td>-0.9936</td>\n",
       "      <td>neg</td>\n",
       "    </tr>\n",
       "    <tr>\n",
       "      <th>1050</th>\n",
       "      <td>pos</td>\n",
       "      <td>pos/cv050_11175.txt</td>\n",
       "      <td>-0.9796</td>\n",
       "      <td>neg</td>\n",
       "    </tr>\n",
       "    <tr>\n",
       "      <th>...</th>\n",
       "      <td>...</td>\n",
       "      <td>...</td>\n",
       "      <td>...</td>\n",
       "      <td>...</td>\n",
       "    </tr>\n",
       "    <tr>\n",
       "      <th>1936</th>\n",
       "      <td>pos</td>\n",
       "      <td>pos/cv936_15954.txt</td>\n",
       "      <td>-0.9897</td>\n",
       "      <td>neg</td>\n",
       "    </tr>\n",
       "    <tr>\n",
       "      <th>1939</th>\n",
       "      <td>pos</td>\n",
       "      <td>pos/cv939_10583.txt</td>\n",
       "      <td>-0.9897</td>\n",
       "      <td>neg</td>\n",
       "    </tr>\n",
       "    <tr>\n",
       "      <th>1942</th>\n",
       "      <td>pos</td>\n",
       "      <td>pos/cv942_17082.txt</td>\n",
       "      <td>-0.9808</td>\n",
       "      <td>neg</td>\n",
       "    </tr>\n",
       "    <tr>\n",
       "      <th>1960</th>\n",
       "      <td>pos</td>\n",
       "      <td>pos/cv960_29007.txt</td>\n",
       "      <td>-0.9816</td>\n",
       "      <td>neg</td>\n",
       "    </tr>\n",
       "    <tr>\n",
       "      <th>1997</th>\n",
       "      <td>pos</td>\n",
       "      <td>pos/cv997_5046.txt</td>\n",
       "      <td>-0.9783</td>\n",
       "      <td>neg</td>\n",
       "    </tr>\n",
       "  </tbody>\n",
       "</table>\n",
       "<p>118 rows × 4 columns</p>\n",
       "</div>"
      ],
      "text/plain": [
       "     label               fileid  compound compound_alpha\n",
       "1009   pos  pos/cv009_29592.txt   -0.9813            neg\n",
       "1013   pos  pos/cv013_10159.txt   -0.9159            neg\n",
       "1028   pos  pos/cv028_26746.txt   -0.9916            neg\n",
       "1046   pos  pos/cv046_10188.txt   -0.9936            neg\n",
       "1050   pos  pos/cv050_11175.txt   -0.9796            neg\n",
       "...    ...                  ...       ...            ...\n",
       "1936   pos  pos/cv936_15954.txt   -0.9897            neg\n",
       "1939   pos  pos/cv939_10583.txt   -0.9897            neg\n",
       "1942   pos  pos/cv942_17082.txt   -0.9808            neg\n",
       "1960   pos  pos/cv960_29007.txt   -0.9816            neg\n",
       "1997   pos   pos/cv997_5046.txt   -0.9783            neg\n",
       "\n",
       "[118 rows x 4 columns]"
      ]
     },
     "execution_count": 566,
     "metadata": {},
     "output_type": "execute_result"
    }
   ],
   "source": [
    "df[(df[\"compound\"] < -0.9) & (df[\"label\"] == 'pos')]"
   ]
  },
  {
   "cell_type": "code",
   "execution_count": 567,
   "id": "ccd244b0-fa76-43da-8f36-680ff0b3de39",
   "metadata": {},
   "outputs": [
    {
     "data": {
      "text/plain": [
       "\"the american action film has been slowly drowning to death in a sea of asian wire-fu copycats . \\nit's not a pretty death , and it's leaving the likes of schwartznager , stallone , and van damme wearing cement galoshes at the bottom of a kung fu sea . \\nsometimes , the mix results in a mind-blowing spectacle unlike any other . \\nquality action with amazing and exciting stunt work , as in 1999's the matrix , can be a real gem . \\nbut too often hollywood gets it wrong , even when they pay off chinese directors . \\nflying ninjas and floating karate masters have been replaced by soaring bronx detectives and slow motion kicking scientists . \\nmostly it's laughable . \\nin hollywood's rush to emulate the success of the matrix , trademark asian stunt choreography has become more of a joke than an art form . \\nbut iron monkey , the latest asian import , shows us how to get it right . \\niron monkey ( actually a reissue of a 1993 film ) is the story of a 19th chinese vigilante ( rongguang yu ) , fighting with his own unique style of shaolin kung fu for the rights of the oppressed and the bellies of the hungry . \\nbut it is also a piece of the narrative of legendary chinese film hero wong fei-hong , most recently seen in one of the most overlooked , and possibly best films of 2000 , drunken master 2 ( released in the u . s . as the legend of drunken master ) . \\nunlike drunken master 2 , which stars jackie chan as an adult fei-hong , iron monkey finds a much younger fei-hong ( sze-man tsang ) and his father wong kei-ying ( yen chi dan ) thrust into the middle of iron monkey's fight against oppression . \\niron monkey succeeds as no kung fu film since drunken master 2 . at times , fighting styles , especially that of monkey himself , do devolve into the ridiculous twinkle-toed floating of films like crouching tiger , hidden dragon , director yuen wo ping eventually remembers to bring his action scenes back to earth . \\niron monkey is at its heart a hardcore , kung fu action film rather than any kind of drama a la crouching tiger . \\nhowever , there are brief moments of profoundness shared between characters , such as those that pass between our outlaw hero and his good-hearted but misguided enemy , chief fox . \\nin those moments , and in others , iron monkey manages to transcend its mindless kung fu nature to touch the hearts and minds of its audience . \\nwhile in no way the equal of a masterpiece like drunken master 2 , iron monkey dances quite nicely to the invading kung fu tune . \\naka siunin wong fei-hung tsi titmalau . \\n\""
      ]
     },
     "execution_count": 567,
     "metadata": {},
     "output_type": "execute_result"
    }
   ],
   "source": [
    "movie_reviews.raw(\"pos/cv009_29592.txt\")"
   ]
  },
  {
   "cell_type": "code",
   "execution_count": 568,
   "id": "6f5164f5-70f6-4322-addd-3062c07289b2",
   "metadata": {},
   "outputs": [
    {
     "data": {
      "text/plain": [
       "<nltk.sentiment.vader.SentimentIntensityAnalyzer at 0x3e32ae50>"
      ]
     },
     "execution_count": 568,
     "metadata": {},
     "output_type": "execute_result"
    }
   ],
   "source": [
    "sia"
   ]
  },
  {
   "cell_type": "code",
   "execution_count": 542,
   "id": "6faa281c-8718-4915-b306-9d5ff6c7737d",
   "metadata": {},
   "outputs": [],
   "source": [
    "tesla['compound_score'] = tesla.article.apply(lambda x: sia.polarity_scores(preprocess(x, string=True))['compound'])"
   ]
  },
  {
   "cell_type": "code",
   "execution_count": 547,
   "id": "d15e41ce-955a-47c6-8556-09c727bda100",
   "metadata": {},
   "outputs": [
    {
     "data": {
      "text/html": [
       "<div>\n",
       "<style scoped>\n",
       "    .dataframe tbody tr th:only-of-type {\n",
       "        vertical-align: middle;\n",
       "    }\n",
       "\n",
       "    .dataframe tbody tr th {\n",
       "        vertical-align: top;\n",
       "    }\n",
       "\n",
       "    .dataframe thead th {\n",
       "        text-align: right;\n",
       "    }\n",
       "</style>\n",
       "<table border=\"1\" class=\"dataframe\">\n",
       "  <thead>\n",
       "    <tr style=\"text-align: right;\">\n",
       "      <th></th>\n",
       "      <th>title</th>\n",
       "      <th>label</th>\n",
       "      <th>compound_score</th>\n",
       "    </tr>\n",
       "  </thead>\n",
       "  <tbody>\n",
       "    <tr>\n",
       "      <th>0</th>\n",
       "      <td>Fisker to sell electric SUV in India with view...</td>\n",
       "      <td>neg</td>\n",
       "      <td>0.9800</td>\n",
       "    </tr>\n",
       "    <tr>\n",
       "      <th>1</th>\n",
       "      <td>GM, Hertz make deal to deploy up to 175,000 EVs</td>\n",
       "      <td>neg</td>\n",
       "      <td>0.9670</td>\n",
       "    </tr>\n",
       "    <tr>\n",
       "      <th>2</th>\n",
       "      <td>Tesla countersues California agency behind rac...</td>\n",
       "      <td>pos</td>\n",
       "      <td>-0.8807</td>\n",
       "    </tr>\n",
       "    <tr>\n",
       "      <th>3</th>\n",
       "      <td>LG Energy inks cobalt, lithium supply deals wi...</td>\n",
       "      <td>neg</td>\n",
       "      <td>0.9538</td>\n",
       "    </tr>\n",
       "    <tr>\n",
       "      <th>4</th>\n",
       "      <td>Wall Street ends down for third day as growth ...</td>\n",
       "      <td>pos</td>\n",
       "      <td>0.9678</td>\n",
       "    </tr>\n",
       "    <tr>\n",
       "      <th>5</th>\n",
       "      <td>Tesla recalls nearly 1.1 million U.S. vehicles...</td>\n",
       "      <td>neg</td>\n",
       "      <td>0.9100</td>\n",
       "    </tr>\n",
       "    <tr>\n",
       "      <th>6</th>\n",
       "      <td>Renault ahead of schedule on EV partnerships -...</td>\n",
       "      <td>neg</td>\n",
       "      <td>0.9666</td>\n",
       "    </tr>\n",
       "    <tr>\n",
       "      <th>7</th>\n",
       "      <td>California regulator sees 2035 EV mandate as '...</td>\n",
       "      <td>neg</td>\n",
       "      <td>0.9834</td>\n",
       "    </tr>\n",
       "    <tr>\n",
       "      <th>8</th>\n",
       "      <td>China's Xpeng says CATL is no longer its large...</td>\n",
       "      <td>neg</td>\n",
       "      <td>0.9633</td>\n",
       "    </tr>\n",
       "    <tr>\n",
       "      <th>9</th>\n",
       "      <td>Analysis: Rally in U.S. consumer stocks teeter...</td>\n",
       "      <td>pos</td>\n",
       "      <td>0.9789</td>\n",
       "    </tr>\n",
       "    <tr>\n",
       "      <th>10</th>\n",
       "      <td>Fire at PG&amp;E's California Tesla battery facili...</td>\n",
       "      <td>neg</td>\n",
       "      <td>0.3612</td>\n",
       "    </tr>\n",
       "    <tr>\n",
       "      <th>11</th>\n",
       "      <td>Elon Musk faces skeptics as Tesla gets ready t...</td>\n",
       "      <td>pos</td>\n",
       "      <td>0.9936</td>\n",
       "    </tr>\n",
       "    <tr>\n",
       "      <th>12</th>\n",
       "      <td>Twitter to depose Elon Musk in Delaware on Sep...</td>\n",
       "      <td>pos</td>\n",
       "      <td>0.5574</td>\n",
       "    </tr>\n",
       "    <tr>\n",
       "      <th>13</th>\n",
       "      <td>Factbox: The challenges automakers, and now Te...</td>\n",
       "      <td>neg</td>\n",
       "      <td>0.9304</td>\n",
       "    </tr>\n",
       "    <tr>\n",
       "      <th>14</th>\n",
       "      <td>Wall Street ends choppy session higher with fo...</td>\n",
       "      <td>neg</td>\n",
       "      <td>0.8979</td>\n",
       "    </tr>\n",
       "    <tr>\n",
       "      <th>15</th>\n",
       "      <td>Tesla must tell laid off workers about lawsuit...</td>\n",
       "      <td>pos</td>\n",
       "      <td>-0.8402</td>\n",
       "    </tr>\n",
       "    <tr>\n",
       "      <th>16</th>\n",
       "      <td>Truly autonomous cars may be impossible withou...</td>\n",
       "      <td>pos</td>\n",
       "      <td>0.9981</td>\n",
       "    </tr>\n",
       "    <tr>\n",
       "      <th>17</th>\n",
       "      <td>Tesla completes production capacity expansion ...</td>\n",
       "      <td>pos</td>\n",
       "      <td>0.9382</td>\n",
       "    </tr>\n",
       "    <tr>\n",
       "      <th>18</th>\n",
       "      <td>Tesla's German battery plant and land extensio...</td>\n",
       "      <td>neg</td>\n",
       "      <td>0.4019</td>\n",
       "    </tr>\n",
       "  </tbody>\n",
       "</table>\n",
       "</div>"
      ],
      "text/plain": [
       "                                                title label  compound_score\n",
       "0   Fisker to sell electric SUV in India with view...   neg          0.9800\n",
       "1     GM, Hertz make deal to deploy up to 175,000 EVs   neg          0.9670\n",
       "2   Tesla countersues California agency behind rac...   pos         -0.8807\n",
       "3   LG Energy inks cobalt, lithium supply deals wi...   neg          0.9538\n",
       "4   Wall Street ends down for third day as growth ...   pos          0.9678\n",
       "5   Tesla recalls nearly 1.1 million U.S. vehicles...   neg          0.9100\n",
       "6   Renault ahead of schedule on EV partnerships -...   neg          0.9666\n",
       "7   California regulator sees 2035 EV mandate as '...   neg          0.9834\n",
       "8   China's Xpeng says CATL is no longer its large...   neg          0.9633\n",
       "9   Analysis: Rally in U.S. consumer stocks teeter...   pos          0.9789\n",
       "10  Fire at PG&E's California Tesla battery facili...   neg          0.3612\n",
       "11  Elon Musk faces skeptics as Tesla gets ready t...   pos          0.9936\n",
       "12  Twitter to depose Elon Musk in Delaware on Sep...   pos          0.5574\n",
       "13  Factbox: The challenges automakers, and now Te...   neg          0.9304\n",
       "14  Wall Street ends choppy session higher with fo...   neg          0.8979\n",
       "15  Tesla must tell laid off workers about lawsuit...   pos         -0.8402\n",
       "16  Truly autonomous cars may be impossible withou...   pos          0.9981\n",
       "17  Tesla completes production capacity expansion ...   pos          0.9382\n",
       "18  Tesla's German battery plant and land extensio...   neg          0.4019"
      ]
     },
     "execution_count": 547,
     "metadata": {},
     "output_type": "execute_result"
    }
   ],
   "source": [
    "tesla.head(20)[['title', 'label', 'compound_score']]"
   ]
  },
  {
   "cell_type": "code",
   "execution_count": 540,
   "id": "04b8d36e-f05e-4788-8401-77407b1f52f1",
   "metadata": {},
   "outputs": [
    {
     "data": {
      "text/plain": [
       "0     0.9800\n",
       "1     0.9670\n",
       "2    -0.8807\n",
       "3     0.9538\n",
       "4     0.9678\n",
       "5     0.9100\n",
       "6     0.9666\n",
       "7     0.9834\n",
       "8     0.9633\n",
       "9     0.9789\n",
       "10    0.3612\n",
       "11    0.9936\n",
       "12    0.5574\n",
       "13    0.9304\n",
       "14    0.8979\n",
       "15   -0.8402\n",
       "16    0.9981\n",
       "17    0.9382\n",
       "18    0.4019\n",
       "Name: article, dtype: float64"
      ]
     },
     "execution_count": 540,
     "metadata": {},
     "output_type": "execute_result"
    }
   ],
   "source": [
    "tesla.article.apply(lambda x: sia.polarity_scores(preprocess(x, string=True))['compound'])"
   ]
  },
  {
   "cell_type": "code",
   "execution_count": 230,
   "id": "8ba67d1e-b5f4-4a2e-b42a-0e17e2f8a0b0",
   "metadata": {},
   "outputs": [
    {
     "name": "stdout",
     "output_type": "stream",
     "text": [
      "              precision    recall  f1-score   support\n",
      "\n",
      "         neg       0.72      0.44      0.55      1000\n",
      "         pos       0.60      0.83      0.69      1000\n",
      "\n",
      "    accuracy                           0.64      2000\n",
      "   macro avg       0.66      0.64      0.62      2000\n",
      "weighted avg       0.66      0.64      0.62      2000\n",
      "\n"
     ]
    }
   ],
   "source": [
    "from sklearn.metrics import classification_report\n",
    "print (classification_report(df['label'], df[\"compound_alpha\"]))"
   ]
  },
  {
   "cell_type": "code",
   "execution_count": null,
   "id": "620ff1cd-419b-4911-837c-8dfe084b1e35",
   "metadata": {},
   "outputs": [],
   "source": []
  }
 ],
 "metadata": {
  "kernelspec": {
   "display_name": "Python 3 (ipykernel)",
   "language": "python",
   "name": "python3"
  },
  "language_info": {
   "codemirror_mode": {
    "name": "ipython",
    "version": 3
   },
   "file_extension": ".py",
   "mimetype": "text/x-python",
   "name": "python",
   "nbconvert_exporter": "python",
   "pygments_lexer": "ipython3",
   "version": "3.8.3"
  }
 },
 "nbformat": 4,
 "nbformat_minor": 5
}
