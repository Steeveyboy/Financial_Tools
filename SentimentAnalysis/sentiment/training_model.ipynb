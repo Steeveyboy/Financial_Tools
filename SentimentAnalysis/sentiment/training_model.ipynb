{
 "cells": [
  {
   "cell_type": "markdown",
   "id": "25cd2e84-0aa0-414d-a825-d7159b246904",
   "metadata": {},
   "source": [
    "# Devoping a Sentiment Analysis Model\n",
    "- Trying out methods to estimate an articles level of positive or negative sentiment towards the subject\n",
    "- Training using yelp and movie reviews"
   ]
  },
  {
   "cell_type": "code",
   "execution_count": 458,
   "id": "7188b0e9-fbad-48a9-a550-b80f5c5591a4",
   "metadata": {},
   "outputs": [],
   "source": [
    "import pandas as pd\n",
    "import numpy as np\n",
    "import nltk\n",
    "from nltk.corpus import movie_reviews, stopwords\n",
    "from nltk.sentiment import SentimentIntensityAnalyzer\n",
    "from sklearn.feature_extraction.text import TfidfTransformer, CountVectorizer\n",
    "import time, string\n",
    "import matplotlib.pyplot as plt\n",
    "import seaborn as sns"
   ]
  },
  {
   "cell_type": "code",
   "execution_count": 623,
   "id": "cfe0211a-9c2a-4b10-a19b-d80f9cd78da6",
   "metadata": {},
   "outputs": [],
   "source": [
    "s = \"\"\"Why it rocks:\n",
    "While movies like Toy Story revolutionized the visual aspect of animation, Shrek on the other hand marked an important point in the structure and storytelling aspect in animation as it stepped away from the classic tropes and clichés used in animation so far while introducing\"\"\""
   ]
  },
  {
   "cell_type": "code",
   "execution_count": 625,
   "id": "afb89eb4-902c-4650-b439-d2d8d60f61ee",
   "metadata": {},
   "outputs": [],
   "source": [
    "\n",
    "X = bow_transformer.transform([s])"
   ]
  },
  {
   "cell_type": "code",
   "execution_count": 627,
   "id": "400847f9-cd99-4e97-b711-28603153aacc",
   "metadata": {},
   "outputs": [
    {
     "data": {
      "text/plain": [
       "4671"
      ]
     },
     "execution_count": 627,
     "metadata": {},
     "output_type": "execute_result"
    }
   ],
   "source": [
    "bow_transformer.vocabulary_.get(\"movie\")"
   ]
  },
  {
   "cell_type": "code",
   "execution_count": 633,
   "id": "e65cd1f0-bad5-405c-ac1d-b08dab3eefdf",
   "metadata": {},
   "outputs": [
    {
     "data": {
      "text/plain": [
       "1.2716526455422215"
      ]
     },
     "execution_count": 633,
     "metadata": {},
     "output_type": "execute_result"
    }
   ],
   "source": [
    "tfidf_transformer.idf_[4671]"
   ]
  },
  {
   "cell_type": "code",
   "execution_count": 459,
   "id": "eaa1494b-1200-48c4-8507-eeb74353d0c1",
   "metadata": {
    "tags": []
   },
   "outputs": [],
   "source": [
    "reviews = [[file.split(\"/\")[0], file] for file in movie_reviews.fileids()]\n",
    "df = pd.DataFrame(reviews, columns=[\"label\", \"fileid\"])"
   ]
  },
  {
   "cell_type": "code",
   "execution_count": 999,
   "id": "68390395-28cc-4e53-a284-b4c5c6b5c87f",
   "metadata": {},
   "outputs": [],
   "source": [
    "# Preloading stopwords into set to improve speed by 10X\n",
    "stopSet = set(stopwords.words(\"english\"))\n",
    "puncSet = set(list(string.punctuation) + [\"\\n\", \"\"])\n",
    "\n",
    "cleanword = lambda word: ((word not in puncSet) and (word.isalpha()) and (len(word)>1))\n",
    "\n",
    "def preprocess(words, string=False):\n",
    "    if(type(words) == str):\n",
    "        words = re.sub(r\"\\s+\", \" \", words)\n",
    "        words = re.sub(r\"[^a-zA-Z\\s]\", \"\", words)\n",
    "        words = words.split(\" \")\n",
    "    \n",
    "    clean_mess = [w.lower() for w in words if w.lower() not in stopSet and cleanword(w)]\n",
    "    if(string):\n",
    "        return \" \".join(clean_mess)\n",
    "    else:\n",
    "        return clean_mess\n"
   ]
  },
  {
   "cell_type": "code",
   "execution_count": 964,
   "id": "7f783ded-5ed0-46b9-bfbe-c8dac33f3695",
   "metadata": {},
   "outputs": [
    {
     "name": "stdout",
     "output_type": "stream",
     "text": [
      "879\n"
     ]
    },
    {
     "data": {
      "text/plain": [
       "324"
      ]
     },
     "execution_count": 964,
     "metadata": {},
     "output_type": "execute_result"
    }
   ],
   "source": [
    "print(len(movie_reviews.words(\"neg/cv000_29416.txt\")))\n",
    "len(preprocess(movie_reviews.words(\"neg/cv000_29416.txt\")))"
   ]
  },
  {
   "cell_type": "markdown",
   "id": "11a572fd-6936-4433-a01b-37acb8a30f86",
   "metadata": {},
   "source": [
    "## Evaluating using tf-idf on movie reviews"
   ]
  },
  {
   "cell_type": "code",
   "execution_count": 589,
   "id": "3f0537a9-226f-4d93-8642-90ad3640ab5e",
   "metadata": {},
   "outputs": [],
   "source": [
    "from sklearn.pipeline import Pipeline\n",
    "from sklearn.naive_bayes import MultinomialNB, GaussianNB\n",
    "from sklearn.metrics import classification_report, confusion_matrix\n",
    "from sklearn.model_selection import train_test_split"
   ]
  },
  {
   "cell_type": "code",
   "execution_count": 1000,
   "id": "fb71c2c8-53eb-4bc9-b068-76df6481d3ca",
   "metadata": {},
   "outputs": [
    {
     "name": "stdout",
     "output_type": "stream",
     "text": [
      "Bag of works vocab size 8000\n",
      "(2000, 8000)\n",
      "CPU times: total: 2.3 s\n",
      "Wall time: 2.3 s\n"
     ]
    },
    {
     "data": {
      "text/plain": [
       "8000"
      ]
     },
     "execution_count": 1000,
     "metadata": {},
     "output_type": "execute_result"
    }
   ],
   "source": [
    "%%time\n",
    "\n",
    "# Getting word counts using all documents\n",
    "bow_transformer = CountVectorizer(analyzer=preprocess, min_df=3, max_features=8000).fit(df.fileid.apply(movie_reviews.raw))\n",
    "print(f\"Bag of works vocab size {len(bow_transformer.vocabulary_)}\")\n",
    "\n",
    "# Getting the term frequency for each document\n",
    "reviews_bow = bow_transformer.transform(df.fileid.apply(movie_reviews.raw))\n",
    "print(reviews_bow.shape)\n",
    "\n",
    "# \n",
    "tfidf_transformer = TfidfTransformer().fit(reviews_bow)\n",
    "reviews_tfidf = tfidf_transformer.transform(reviews_bow)\n",
    "\n",
    "sentiment_detect_model = MultinomialNB().fit(reviews_tfidf, df['label'])\n",
    "\n",
    "len(bow_transformer.vocabulary_)"
   ]
  },
  {
   "cell_type": "code",
   "execution_count": 1001,
   "id": "7672012f-7729-41b6-ab3a-643c4232bbe0",
   "metadata": {},
   "outputs": [],
   "source": [
    "movie_train, movie_test, label_train, label_test = train_test_split(df['fileid'], df['label'], test_size=0.25, random_state=101)"
   ]
  },
  {
   "cell_type": "code",
   "execution_count": 659,
   "id": "af35f4c3-b09c-4286-b0dc-095392f05a75",
   "metadata": {},
   "outputs": [
    {
     "name": "stdout",
     "output_type": "stream",
     "text": [
      "[[215  26]\n",
      " [ 45 214]]\n",
      "              precision    recall  f1-score   support\n",
      "\n",
      "         neg       0.83      0.89      0.86       241\n",
      "         pos       0.89      0.83      0.86       259\n",
      "\n",
      "    accuracy                           0.86       500\n",
      "   macro avg       0.86      0.86      0.86       500\n",
      "weighted avg       0.86      0.86      0.86       500\n",
      "\n",
      "CPU times: total: 1.42 s\n",
      "Wall time: 1.41 s\n"
     ]
    }
   ],
   "source": [
    "%%time\n",
    "pipeline = Pipeline([('bow', CountVectorizer(analyzer=preprocess, min_df=3, max_features=16000)), ('tfidf', TfidfTransformer()), ('classifier', MultinomialNB())])\n",
    "\n",
    "pipeline.fit(movie_train.apply(movie_reviews.raw), label_train)\n",
    "predictions = pipeline.predict(movie_test.apply(movie_reviews.raw))\n",
    "\n",
    "print(confusion_matrix(label_test, predictions))\n",
    "print (classification_report(label_test, predictions))"
   ]
  },
  {
   "cell_type": "code",
   "execution_count": 543,
   "id": "ff1d3db5-30dc-43d6-ac70-59e2c22f9bfd",
   "metadata": {},
   "outputs": [],
   "source": [
    "probs = pipeline.predict_proba(df.fileid.apply(movie_reviews.raw))\n",
    "df[\"class\"] = pipeline.predict(df.fileid.apply(movie_reviews.raw))\n",
    "df[[\"negative\", \"positive\"]] = probs"
   ]
  },
  {
   "cell_type": "markdown",
   "id": "a3a1d4c0-761a-409f-bc90-6a73c0054968",
   "metadata": {},
   "source": [
    "## Evaluating using TF-IDF on yelp reviews"
   ]
  },
  {
   "cell_type": "code",
   "execution_count": 827,
   "id": "45e22094-6ec0-4757-a283-3cb20205b78b",
   "metadata": {},
   "outputs": [],
   "source": [
    "yelp = pd.read_csv(\"yelp.csv\")\n",
    "yelp['label'] = yelp.stars.apply(lambda x: 'pos' if x > 2 else 'neg')\n",
    "yelp = yelp[[\"text\", \"stars\", \"label\", \"type\", \"cool\", \"useful\", \"funny\"]]"
   ]
  },
  {
   "cell_type": "code",
   "execution_count": 828,
   "id": "dbd162aa-0e25-44e3-8fdf-f1454b789d69",
   "metadata": {
    "tags": []
   },
   "outputs": [],
   "source": [
    "ypipeline = Pipeline([\n",
    "    ('bow', CountVectorizer(analyzer=preprocess, min_df=3)), \n",
    "    ('tfidf', TfidfTransformer()), \n",
    "    ('classifier', MultinomialNB())])\n",
    "\n",
    "\n",
    "yelp_train, yelp_test, label_train, label_test = train_test_split(yelp['text'], yelp['label'], test_size=0.3, random_state=17)\n",
    "\n",
    "ypipeline.fit(yelp_train, label_train)\n",
    "\n",
    "predictions = ypipeline.predict(yelp_test)"
   ]
  },
  {
   "cell_type": "code",
   "execution_count": 829,
   "id": "24480c2e-eac3-4117-85a0-f60f28db43c0",
   "metadata": {},
   "outputs": [
    {
     "name": "stdout",
     "output_type": "stream",
     "text": [
      "[[   4  486]\n",
      " [   0 2510]]\n",
      "              precision    recall  f1-score   support\n",
      "\n",
      "         neg       1.00      0.01      0.02       490\n",
      "         pos       0.84      1.00      0.91      2510\n",
      "\n",
      "    accuracy                           0.84      3000\n",
      "   macro avg       0.92      0.50      0.46      3000\n",
      "weighted avg       0.86      0.84      0.77      3000\n",
      "\n"
     ]
    }
   ],
   "source": [
    "print(confusion_matrix(label_test, predictions))\n",
    "print (classification_report(label_test, predictions))"
   ]
  },
  {
   "cell_type": "code",
   "execution_count": 958,
   "id": "d6b986c3-0e10-4c1a-b7f9-2a6c27b71a33",
   "metadata": {},
   "outputs": [],
   "source": [
    "ypipeline = Pipeline([\n",
    "    ('bow', CountVectorizer(analyzer=preprocess, min_df=3, max_df=1.0, max_features=6000)), \n",
    "    ('tfidf', TfidfTransformer()), \n",
    "    ('classifier', MultinomialNB())])\n",
    "\n",
    "syelp = yelp[(yelp.stars > 4) | (yelp.stars < 3)]\n",
    "# syelp=yelp\n",
    "\n",
    "ypipeline.fit(syelp.text, syelp.label)\n",
    "yelp[\"class\"] = ypipeline.predict(yelp.text)\n",
    "yelp[[\"negative\", \"positive\"]] = ypipeline.predict_proba(yelp.text)"
   ]
  },
  {
   "cell_type": "code",
   "execution_count": 959,
   "id": "d51ea1ba-941d-4832-901c-07c1214bae35",
   "metadata": {},
   "outputs": [
    {
     "name": "stdout",
     "output_type": "stream",
     "text": [
      "[[1215  461]\n",
      " [ 355 7969]]\n",
      "              precision    recall  f1-score   support\n",
      "\n",
      "         neg       0.77      0.72      0.75      1676\n",
      "         pos       0.95      0.96      0.95      8324\n",
      "\n",
      "    accuracy                           0.92     10000\n",
      "   macro avg       0.86      0.84      0.85     10000\n",
      "weighted avg       0.92      0.92      0.92     10000\n",
      "\n",
      "0.7752080821701111\n"
     ]
    },
    {
     "name": "stderr",
     "output_type": "stream",
     "text": [
      "C:\\Users\\jonat\\AppData\\Local\\Temp\\ipykernel_15632\\4138432084.py:4: FutureWarning: The default value of numeric_only in DataFrame.corr is deprecated. In a future version, it will default to False. Select only valid columns or specify the value of numeric_only to silence this warning.\n",
      "  print(yelp.corr().stars[\"positive\"])\n"
     ]
    }
   ],
   "source": [
    "print(confusion_matrix(yelp.label, yelp[\"class\"]))\n",
    "print (classification_report(yelp.label, yelp[\"class\"]))\n",
    "# print(mean_absolute_error(yelp.stars, syelp[\"class\"]))\n",
    "print(yelp.corr().stars[\"positive\"])"
   ]
  },
  {
   "cell_type": "code",
   "execution_count": 960,
   "id": "b3ba572d-c09f-4bb0-bb2d-eeac3aa0a210",
   "metadata": {
    "tags": []
   },
   "outputs": [
    {
     "data": {
      "text/plain": [
       "<AxesSubplot: xlabel='stars', ylabel='positive'>"
      ]
     },
     "execution_count": 960,
     "metadata": {},
     "output_type": "execute_result"
    },
    {
     "data": {
      "image/png": "[encoded data removed]",
      "text/plain": [
       "<Figure size 640x480 with 1 Axes>"
      ]
     },
     "metadata": {},
     "output_type": "display_data"
    }
   ],
   "source": [
    "sns.boxenplot(yelp, x=\"stars\", y=\"positive\")"
   ]
  },
  {
   "cell_type": "code",
   "execution_count": 961,
   "id": "97ad99db-ffb0-4fce-ab41-a083aaa21693",
   "metadata": {},
   "outputs": [
    {
     "data": {
      "text/plain": [
       "<AxesSubplot: xlabel='positive', ylabel='Count'>"
      ]
     },
     "execution_count": 961,
     "metadata": {},
     "output_type": "execute_result"
    },
    {
     "data": {
      "image/png": "[encoded data removed]",
      "text/plain": [
       "<Figure size 640x480 with 1 Axes>"
      ]
     },
     "metadata": {},
     "output_type": "display_data"
    }
   ],
   "source": [
    "sns.histplot(yelp[yelp.stars!=3], x=\"positive\", hue=\"label\", multiple=\"stack\")"
   ]
  },
  {
   "cell_type": "code",
   "execution_count": 962,
   "id": "e6987e0c-961e-4580-80e8-3a36ba6c420c",
   "metadata": {},
   "outputs": [
    {
     "data": {
      "text/html": [
       "<div>\n",
       "<style scoped>\n",
       "    .dataframe tbody tr th:only-of-type {\n",
       "        vertical-align: middle;\n",
       "    }\n",
       "\n",
       "    .dataframe tbody tr th {\n",
       "        vertical-align: top;\n",
       "    }\n",
       "\n",
       "    .dataframe thead th {\n",
       "        text-align: right;\n",
       "    }\n",
       "</style>\n",
       "<table border=\"1\" class=\"dataframe\">\n",
       "  <thead>\n",
       "    <tr style=\"text-align: right;\">\n",
       "      <th></th>\n",
       "      <th>text</th>\n",
       "      <th>stars</th>\n",
       "      <th>label</th>\n",
       "      <th>type</th>\n",
       "      <th>cool</th>\n",
       "      <th>useful</th>\n",
       "      <th>funny</th>\n",
       "      <th>class</th>\n",
       "      <th>negative</th>\n",
       "      <th>positive</th>\n",
       "    </tr>\n",
       "  </thead>\n",
       "  <tbody>\n",
       "    <tr>\n",
       "      <th>3448</th>\n",
       "      <td>I was there last week with my sisters and whil...</td>\n",
       "      <td>5</td>\n",
       "      <td>pos</td>\n",
       "      <td>review</td>\n",
       "      <td>1</td>\n",
       "      <td>2</td>\n",
       "      <td>0</td>\n",
       "      <td>neg</td>\n",
       "      <td>0.635657</td>\n",
       "      <td>0.364343</td>\n",
       "    </tr>\n",
       "    <tr>\n",
       "      <th>5637</th>\n",
       "      <td>I'm giving them a 5 star review for how they h...</td>\n",
       "      <td>5</td>\n",
       "      <td>pos</td>\n",
       "      <td>review</td>\n",
       "      <td>3</td>\n",
       "      <td>2</td>\n",
       "      <td>0</td>\n",
       "      <td>neg</td>\n",
       "      <td>0.692568</td>\n",
       "      <td>0.307432</td>\n",
       "    </tr>\n",
       "    <tr>\n",
       "      <th>6318</th>\n",
       "      <td>Since I have ranted recently on poor customer ...</td>\n",
       "      <td>5</td>\n",
       "      <td>pos</td>\n",
       "      <td>review</td>\n",
       "      <td>2</td>\n",
       "      <td>2</td>\n",
       "      <td>3</td>\n",
       "      <td>neg</td>\n",
       "      <td>0.601948</td>\n",
       "      <td>0.398052</td>\n",
       "    </tr>\n",
       "    <tr>\n",
       "      <th>7903</th>\n",
       "      <td>First, I'm sorry this review is lengthy, but i...</td>\n",
       "      <td>5</td>\n",
       "      <td>pos</td>\n",
       "      <td>review</td>\n",
       "      <td>2</td>\n",
       "      <td>2</td>\n",
       "      <td>1</td>\n",
       "      <td>neg</td>\n",
       "      <td>0.671153</td>\n",
       "      <td>0.328847</td>\n",
       "    </tr>\n",
       "    <tr>\n",
       "      <th>8319</th>\n",
       "      <td>So, my friend and I went first to Yasu because...</td>\n",
       "      <td>5</td>\n",
       "      <td>pos</td>\n",
       "      <td>review</td>\n",
       "      <td>0</td>\n",
       "      <td>0</td>\n",
       "      <td>0</td>\n",
       "      <td>neg</td>\n",
       "      <td>0.629237</td>\n",
       "      <td>0.370763</td>\n",
       "    </tr>\n",
       "    <tr>\n",
       "      <th>9636</th>\n",
       "      <td>OK OK... as a Proud Italian I hope my momma do...</td>\n",
       "      <td>5</td>\n",
       "      <td>pos</td>\n",
       "      <td>review</td>\n",
       "      <td>4</td>\n",
       "      <td>3</td>\n",
       "      <td>3</td>\n",
       "      <td>neg</td>\n",
       "      <td>0.634665</td>\n",
       "      <td>0.365335</td>\n",
       "    </tr>\n",
       "  </tbody>\n",
       "</table>\n",
       "</div>"
      ],
      "text/plain": [
       "                                                   text  stars label    type  \\\n",
       "3448  I was there last week with my sisters and whil...      5   pos  review   \n",
       "5637  I'm giving them a 5 star review for how they h...      5   pos  review   \n",
       "6318  Since I have ranted recently on poor customer ...      5   pos  review   \n",
       "7903  First, I'm sorry this review is lengthy, but i...      5   pos  review   \n",
       "8319  So, my friend and I went first to Yasu because...      5   pos  review   \n",
       "9636  OK OK... as a Proud Italian I hope my momma do...      5   pos  review   \n",
       "\n",
       "      cool  useful  funny class  negative  positive  \n",
       "3448     1       2      0   neg  0.635657  0.364343  \n",
       "5637     3       2      0   neg  0.692568  0.307432  \n",
       "6318     2       2      3   neg  0.601948  0.398052  \n",
       "7903     2       2      1   neg  0.671153  0.328847  \n",
       "8319     0       0      0   neg  0.629237  0.370763  \n",
       "9636     4       3      3   neg  0.634665  0.365335  "
      ]
     },
     "execution_count": 962,
     "metadata": {},
     "output_type": "execute_result"
    }
   ],
   "source": [
    "yelp[(yelp.positive < 0.4) & (yelp.stars>=5)]"
   ]
  },
  {
   "cell_type": "markdown",
   "id": "2a688260-5199-493f-bfdc-85b9b3353fd1",
   "metadata": {},
   "source": [
    "## SAVING MODEL"
   ]
  },
  {
   "cell_type": "code",
   "execution_count": 900,
   "id": "c89ef438-e0f8-4cbe-bba7-48ea31e1d50e",
   "metadata": {},
   "outputs": [],
   "source": [
    "import pickle\n",
    "with open(\"sentiment_pipeline.pickle\", 'wb') as fileo:\n",
    "    pickle.dump(ypipeline, fileo)"
   ]
  },
  {
   "cell_type": "code",
   "execution_count": null,
   "id": "d192f841-8c30-45ad-8553-ff969e2b59a4",
   "metadata": {},
   "outputs": [],
   "source": []
  },
  {
   "cell_type": "markdown",
   "id": "a85b0d57-56dc-4451-8cf0-13fd1ddf2b85",
   "metadata": {},
   "source": [
    "## Evaluating on news articles"
   ]
  },
  {
   "cell_type": "code",
   "execution_count": 1006,
   "id": "ac149648-5c8c-4e69-87f6-f1d52d592ba5",
   "metadata": {},
   "outputs": [],
   "source": [
    "filer = open(\"sentiment_pipeline.pickle\", \"rb\")\n",
    "pipeline2 = pickle.load(filer)"
   ]
  },
  {
   "cell_type": "code",
   "execution_count": 1008,
   "id": "1a3920c0-afcc-4e4c-9128-8dba1f6c8b86",
   "metadata": {},
   "outputs": [],
   "source": [
    "tesla = pd.read_csv('reuters_tesla.csv')\n",
    "tesla = tesla[[\"title\", \"description\", \"article\"]]"
   ]
  },
  {
   "cell_type": "code",
   "execution_count": 1020,
   "id": "139c7652-61a8-4815-b735-d19262e56547",
   "metadata": {},
   "outputs": [],
   "source": [
    "tesla['label'] = pipeline2.predict(tesla.description)\n",
    "tesla[['negative', 'postive']] = pipeline2.predict_proba(tesla.description)"
   ]
  },
  {
   "cell_type": "code",
   "execution_count": 1025,
   "id": "63fd9397-dcc1-49ab-ab65-b8f91af8a97b",
   "metadata": {},
   "outputs": [
    {
     "data": {
      "text/html": [
       "<div>\n",
       "<style scoped>\n",
       "    .dataframe tbody tr th:only-of-type {\n",
       "        vertical-align: middle;\n",
       "    }\n",
       "\n",
       "    .dataframe tbody tr th {\n",
       "        vertical-align: top;\n",
       "    }\n",
       "\n",
       "    .dataframe thead th {\n",
       "        text-align: right;\n",
       "    }\n",
       "</style>\n",
       "<table border=\"1\" class=\"dataframe\">\n",
       "  <thead>\n",
       "    <tr style=\"text-align: right;\">\n",
       "      <th></th>\n",
       "      <th>title</th>\n",
       "      <th>description</th>\n",
       "      <th>article</th>\n",
       "      <th>label</th>\n",
       "      <th>negative</th>\n",
       "      <th>postive</th>\n",
       "    </tr>\n",
       "  </thead>\n",
       "  <tbody>\n",
       "    <tr>\n",
       "      <th>0</th>\n",
       "      <td>Fisker to sell electric SUV in India with view...</td>\n",
       "      <td>U.S. startup Fisker Inc will begin selling its...</td>\n",
       "      <td>Summary\\r\\nCompanies\\r\\nFisker to launch brand...</td>\n",
       "      <td>pos</td>\n",
       "      <td>0.375429</td>\n",
       "      <td>0.624571</td>\n",
       "    </tr>\n",
       "    <tr>\n",
       "      <th>1</th>\n",
       "      <td>GM, Hertz make deal to deploy up to 175,000 EVs</td>\n",
       "      <td>Rental car company Hertz Global Holdings plans...</td>\n",
       "      <td>Sept 20 (Reuters) - (This Sept. 20 story was o...</td>\n",
       "      <td>pos</td>\n",
       "      <td>0.372046</td>\n",
       "      <td>0.627954</td>\n",
       "    </tr>\n",
       "    <tr>\n",
       "      <th>2</th>\n",
       "      <td>Tesla countersues California agency behind rac...</td>\n",
       "      <td>Tesla Inc on Thursday countersued the Californ...</td>\n",
       "      <td>Companies\\r\\nTesla Inc\\r\\nFollow\\r\\nSept 22 (R...</td>\n",
       "      <td>pos</td>\n",
       "      <td>0.388480</td>\n",
       "      <td>0.611520</td>\n",
       "    </tr>\n",
       "    <tr>\n",
       "      <th>3</th>\n",
       "      <td>LG Energy inks cobalt, lithium supply deals wi...</td>\n",
       "      <td>South Korean battery maker LG Energy Solution ...</td>\n",
       "      <td>SEOUL, Sept 23 (Reuters) - South Korean batter...</td>\n",
       "      <td>pos</td>\n",
       "      <td>0.394317</td>\n",
       "      <td>0.605683</td>\n",
       "    </tr>\n",
       "    <tr>\n",
       "      <th>4</th>\n",
       "      <td>Wall Street ends down for third day as growth ...</td>\n",
       "      <td>Major Wall Street indexes ended lower on Thurs...</td>\n",
       "      <td>Summary\\r\\nCompanies\\r\\nTech stocks down in af...</td>\n",
       "      <td>neg</td>\n",
       "      <td>0.547565</td>\n",
       "      <td>0.452435</td>\n",
       "    </tr>\n",
       "  </tbody>\n",
       "</table>\n",
       "</div>"
      ],
      "text/plain": [
       "                                               title  \\\n",
       "0  Fisker to sell electric SUV in India with view...   \n",
       "1    GM, Hertz make deal to deploy up to 175,000 EVs   \n",
       "2  Tesla countersues California agency behind rac...   \n",
       "3  LG Energy inks cobalt, lithium supply deals wi...   \n",
       "4  Wall Street ends down for third day as growth ...   \n",
       "\n",
       "                                         description  \\\n",
       "0  U.S. startup Fisker Inc will begin selling its...   \n",
       "1  Rental car company Hertz Global Holdings plans...   \n",
       "2  Tesla Inc on Thursday countersued the Californ...   \n",
       "3  South Korean battery maker LG Energy Solution ...   \n",
       "4  Major Wall Street indexes ended lower on Thurs...   \n",
       "\n",
       "                                             article label  negative   postive  \n",
       "0  Summary\\r\\nCompanies\\r\\nFisker to launch brand...   pos  0.375429  0.624571  \n",
       "1  Sept 20 (Reuters) - (This Sept. 20 story was o...   pos  0.372046  0.627954  \n",
       "2  Companies\\r\\nTesla Inc\\r\\nFollow\\r\\nSept 22 (R...   pos  0.388480  0.611520  \n",
       "3  SEOUL, Sept 23 (Reuters) - South Korean batter...   pos  0.394317  0.605683  \n",
       "4  Summary\\r\\nCompanies\\r\\nTech stocks down in af...   neg  0.547565  0.452435  "
      ]
     },
     "execution_count": 1025,
     "metadata": {},
     "output_type": "execute_result"
    }
   ],
   "source": [
    "tesla.head()"
   ]
  },
  {
   "cell_type": "code",
   "execution_count": 1029,
   "id": "e5492d88-a4cf-423e-8e7b-8462969a7103",
   "metadata": {},
   "outputs": [
    {
     "data": {
      "text/plain": [
       "\"Major Wall Street indexes ended lower on Thursday, falling for a third straight session as investors reacted to the Federal Reserve's latest aggressive move to rein in inflation by selling growth stocks, including technology companies.\""
      ]
     },
     "execution_count": 1029,
     "metadata": {},
     "output_type": "execute_result"
    }
   ],
   "source": [
    "tesla.description.iloc[4]"
   ]
  },
  {
   "cell_type": "markdown",
   "id": "7b060177-e443-43aa-9768-1748b16de48c",
   "metadata": {},
   "source": [
    "## Other model?"
   ]
  },
  {
   "cell_type": "code",
   "execution_count": 131,
   "id": "d43f62f7-16d6-4ef9-8c51-a0a4e6ed76e4",
   "metadata": {},
   "outputs": [
    {
     "name": "stdout",
     "output_type": "stream",
     "text": [
      "postive: 371560 \n",
      "negative: 329983\n",
      "CPU times: total: 2.25 s\n",
      "Wall time: 2.21 s\n"
     ]
    }
   ],
   "source": [
    "%%time\n",
    "positive_words = preprocess(nltk.corpus.movie_reviews.words(categories=[\"pos\"]), string=False)\n",
    "negative_words = preprocess(nltk.corpus.movie_reviews.words(categories=[\"neg\"]), string=False)\n",
    "print(f\"postive: {len(positive_words)} \\nnegative: {len(negative_words)}\")"
   ]
  },
  {
   "cell_type": "code",
   "execution_count": 96,
   "id": "5733d461-f911-4705-9320-14ee7e0ea865",
   "metadata": {},
   "outputs": [],
   "source": [
    "positive_fd = nltk.FreqDist(positive_words)\n",
    "negative_fd = nltk.FreqDist(negative_words)"
   ]
  },
  {
   "cell_type": "code",
   "execution_count": 138,
   "id": "64ec2d3b-aea7-4fba-aa2d-7ce1280f5311",
   "metadata": {},
   "outputs": [
    {
     "name": "stdout",
     "output_type": "stream",
     "text": [
      "CPU times: total: 93.8 ms\n",
      "Wall time: 93 ms\n"
     ]
    }
   ],
   "source": [
    "%%time\n",
    "common_set = set(positive_words).intersection(set(negative_words))\n",
    "for word in common_set:\n",
    "    del positive_fd[word]\n",
    "    del negative_fd[word]"
   ]
  },
  {
   "cell_type": "markdown",
   "id": "ac5ceacb-f70a-438c-bcc5-ecbe56450915",
   "metadata": {},
   "source": [
    "## Evaluating Pretrained VADER Model"
   ]
  },
  {
   "cell_type": "code",
   "execution_count": 300,
   "id": "3f008c83-b395-4dce-8c17-609556de976b",
   "metadata": {},
   "outputs": [],
   "source": [
    "from nltk.sentiment.vader import SentimentIntensityAnalyzer as Vader\n",
    "# sia = SentimentIntensityAnalyzer()\n",
    "sia = Vader()\n",
    "# example = movie_reviews.words(\"neg/cv000_29416.txt\")\n",
    "# sn = preprocess(example)\n",
    "# sia.polarity_scores(sn)"
   ]
  },
  {
   "cell_type": "code",
   "execution_count": 366,
   "id": "41a45585-e6fb-446b-8568-ab89c8768a94",
   "metadata": {},
   "outputs": [
    {
     "data": {
      "text/plain": [
       "{'neg': 0.593, 'neu': 0.0, 'pos': 0.407, 'compound': -0.3254}"
      ]
     },
     "execution_count": 366,
     "metadata": {},
     "output_type": "execute_result"
    }
   ],
   "source": [
    "sia.polarity_scores(\"good BAD\")"
   ]
  },
  {
   "cell_type": "code",
   "execution_count": 367,
   "id": "f79f951e-9bbc-4c23-bed3-30fe7464257c",
   "metadata": {},
   "outputs": [
    {
     "data": {
      "text/html": [
       "<div>\n",
       "<style scoped>\n",
       "    .dataframe tbody tr th:only-of-type {\n",
       "        vertical-align: middle;\n",
       "    }\n",
       "\n",
       "    .dataframe tbody tr th {\n",
       "        vertical-align: top;\n",
       "    }\n",
       "\n",
       "    .dataframe thead th {\n",
       "        text-align: right;\n",
       "    }\n",
       "</style>\n",
       "<table border=\"1\" class=\"dataframe\">\n",
       "  <thead>\n",
       "    <tr style=\"text-align: right;\">\n",
       "      <th></th>\n",
       "      <th>label</th>\n",
       "      <th>neg</th>\n",
       "      <th>pos</th>\n",
       "    </tr>\n",
       "  </thead>\n",
       "  <tbody>\n",
       "    <tr>\n",
       "      <th rowspan=\"8\" valign=\"top\">compound</th>\n",
       "      <th>count</th>\n",
       "      <td>1000.000000</td>\n",
       "      <td>1000.000000</td>\n",
       "    </tr>\n",
       "    <tr>\n",
       "      <th>mean</th>\n",
       "      <td>0.107110</td>\n",
       "      <td>0.646057</td>\n",
       "    </tr>\n",
       "    <tr>\n",
       "      <th>std</th>\n",
       "      <td>0.904130</td>\n",
       "      <td>0.702314</td>\n",
       "    </tr>\n",
       "    <tr>\n",
       "      <th>min</th>\n",
       "      <td>-0.999700</td>\n",
       "      <td>-0.999600</td>\n",
       "    </tr>\n",
       "    <tr>\n",
       "      <th>25%</th>\n",
       "      <td>-0.954550</td>\n",
       "      <td>0.902900</td>\n",
       "    </tr>\n",
       "    <tr>\n",
       "      <th>50%</th>\n",
       "      <td>0.682050</td>\n",
       "      <td>0.990900</td>\n",
       "    </tr>\n",
       "    <tr>\n",
       "      <th>75%</th>\n",
       "      <td>0.982025</td>\n",
       "      <td>0.997225</td>\n",
       "    </tr>\n",
       "    <tr>\n",
       "      <th>max</th>\n",
       "      <td>0.999600</td>\n",
       "      <td>0.999900</td>\n",
       "    </tr>\n",
       "  </tbody>\n",
       "</table>\n",
       "</div>"
      ],
      "text/plain": [
       "label                   neg          pos\n",
       "compound count  1000.000000  1000.000000\n",
       "         mean      0.107110     0.646057\n",
       "         std       0.904130     0.702314\n",
       "         min      -0.999700    -0.999600\n",
       "         25%      -0.954550     0.902900\n",
       "         50%       0.682050     0.990900\n",
       "         75%       0.982025     0.997225\n",
       "         max       0.999600     0.999900"
      ]
     },
     "execution_count": 367,
     "metadata": {},
     "output_type": "execute_result"
    }
   ],
   "source": [
    "df['compound'] = df.fileid.apply(lambda x: sia.polarity_scores(movie_reviews.raw(x))['compound'])\n",
    "df[\"compound_alpha\"] = df[\"compound\"].apply(lambda x: 'pos' if x > 0 else 'neg')\n",
    "df.groupby(\"label\").describe().T"
   ]
  },
  {
   "cell_type": "code",
   "execution_count": 329,
   "id": "7e0e3489-1bf3-4beb-8058-aa66c80ef8b7",
   "metadata": {},
   "outputs": [
    {
     "data": {
      "image/png": "[encoded data removed]",
      "text/plain": [
       "<Figure size 600x400 with 1 Axes>"
      ]
     },
     "metadata": {},
     "output_type": "display_data"
    }
   ],
   "source": [
    "g = sns.histplot(df, x=\"compound\", hue=\"label\", multiple=\"stack\").figure.set_size_inches(w=6, h=4);"
   ]
  },
  {
   "cell_type": "markdown",
   "id": "74e2fee9-2984-4342-92a7-e9cf26823ef2",
   "metadata": {},
   "source": [
    "## Training a sentiment analyser"
   ]
  },
  {
   "cell_type": "code",
   "execution_count": null,
   "id": "e2f57bce-ca5a-4dde-8fe1-92bbe98761b0",
   "metadata": {},
   "outputs": [],
   "source": [
    "import nltk"
   ]
  }
 ],
 "metadata": {
  "kernelspec": {
   "display_name": "Python 3 (ipykernel)",
   "language": "python",
   "name": "python3"
  },
  "language_info": {
   "codemirror_mode": {
    "name": "ipython",
    "version": 3
   },
   "file_extension": ".py",
   "mimetype": "text/x-python",
   "name": "python",
   "nbconvert_exporter": "python",
   "pygments_lexer": "ipython3",
   "version": "3.11.1"
  }
 },
 "nbformat": 4,
 "nbformat_minor": 5
}
